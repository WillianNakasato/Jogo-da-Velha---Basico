{
 "cells": [
  {
   "cell_type": "code",
   "execution_count": 94,
   "metadata": {},
   "outputs": [],
   "source": [
    "#Criando o tabuleiro\n",
    "\n",
    "from IPython.display import clear_output\n",
    "\n",
    "def display_board(board):\n",
    "\n",
    "    clear_output()\n",
    "\n",
    "    print('   |   |   ')\n",
    "    print(' '+ board[7]+' | '+board[8]+' | '+board[9])\n",
    "    print('   |   |   ')\n",
    "    print('-------------')\n",
    "    print('   |   |   ')\n",
    "    print(' '+ board[4]+' | '+board[5]+' | '+board[6])\n",
    "    print('   |   |   ')\n",
    "    print('-------------')\n",
    "    print('   |   |   ')\n",
    "    print(' '+ board[1]+' | '+board[2]+' | '+board[3])\n",
    "    print('   |   |   ')"
   ]
  },
  {
   "cell_type": "code",
   "execution_count": null,
   "metadata": {},
   "outputs": [],
   "source": []
  },
  {
   "cell_type": "code",
   "execution_count": 95,
   "metadata": {},
   "outputs": [],
   "source": [
    "#Selecionando o primeiro jogador\n",
    "\n",
    "def player_input():\n",
    "    \n",
    "    marker = ''\n",
    "    while not (marker == 'X' or marker == 'O'):\n",
    "        marker = input('Player 1: Você quer ser X ou O?').upper()\n",
    "        \n",
    "    if marker == 'X':\n",
    "        return ('X', 'O')\n",
    "    else:\n",
    "        return ('O', 'X')"
   ]
  },
  {
   "cell_type": "code",
   "execution_count": 96,
   "metadata": {},
   "outputs": [],
   "source": [
    "def place_marker(board, marker, position):\n",
    "    board[position] = marker\n",
    "    "
   ]
  },
  {
   "cell_type": "code",
   "execution_count": 97,
   "metadata": {},
   "outputs": [],
   "source": [
    "def win_check(board,mark):\n",
    "    \n",
    "    return ((board[7] == mark and board[8] == mark and board[9] == mark) or # vitória pelo topo\n",
    "    (board[4] == mark and board[5] == mark and board[6] == mark) or # pelo meio\n",
    "    (board[1] == mark and board[2] == mark and board[3] == mark) or # por baixo\n",
    "    (board[7] == mark and board[4] == mark and board[1] == mark) or # pela esquda\n",
    "    (board[8] == mark and board[5] == mark and board[2] == mark) or # pelo meio\n",
    "    (board[9] == mark and board[6] == mark and board[3] == mark) or # pela direita\n",
    "    (board[7] == mark and board[5] == mark and board[3] == mark) or # diagonal\n",
    "    (board[9] == mark and board[5] == mark and board[1] == mark)) # diagonal\n",
    "    "
   ]
  },
  {
   "cell_type": "code",
   "execution_count": 98,
   "metadata": {},
   "outputs": [],
   "source": [
    "#Escolhendo o primeiro e segundo À jogar\n",
    "\n",
    "import random\n",
    "def choose_first():\n",
    "    if random.randint(0, 1) == 0:\n",
    "        return 'Player 2'\n",
    "    else:\n",
    "        return 'Player 1'"
   ]
  },
  {
   "cell_type": "code",
   "execution_count": 99,
   "metadata": {},
   "outputs": [],
   "source": [
    "#Se o campo estiver vazio retorna 'Verdadeiro'\n",
    "\n",
    "def space_check(board, position):\n",
    "    return board[position] == ' '"
   ]
  },
  {
   "cell_type": "code",
   "execution_count": 100,
   "metadata": {},
   "outputs": [],
   "source": [
    "#Se o campo estiver preenchido, retorna 'Verdadeiro'\n",
    "def full_board_check(board):\n",
    "    for i in range(1, 10):\n",
    "        if space_check(board, i):\n",
    "            return False\n",
    "    \n",
    "    return True        "
   ]
  },
  {
   "cell_type": "code",
   "execution_count": 101,
   "metadata": {},
   "outputs": [],
   "source": [
    "#Destacando todos os campos que são válidos para o game\n",
    "\n",
    "def player_choice(board):\n",
    "    position = ' '\n",
    "    while position not in '1 2 3 4 5 6 7 8 9'.split() or not space_check(board, int(position)):\n",
    "        \n",
    "        position = input('Escolha sua jogada (1 a 9) ')\n",
    "        return int(position)"
   ]
  },
  {
   "cell_type": "code",
   "execution_count": 102,
   "metadata": {},
   "outputs": [],
   "source": [
    "def replay():\n",
    "    return input('Quer jogar novamente? \"SIM\" ou \"NAO\"'.lower().startswith('s'))"
   ]
  },
  {
   "cell_type": "code",
   "execution_count": null,
   "metadata": {},
   "outputs": [
    {
     "name": "stdout",
     "output_type": "stream",
     "text": [
      "   |   |   \n",
      "   |   |  \n",
      "   |   |   \n",
      "-------------\n",
      "   |   |   \n",
      " X |   | X\n",
      "   |   |   \n",
      "-------------\n",
      "   |   |   \n",
      " O | O | O\n",
      "   |   |   \n",
      "Parabéns! Você venceu!\n"
     ]
    }
   ],
   "source": [
    "print('Bem vindo ao jogo da velha')\n",
    "\n",
    "while True:\n",
    "    board = [' '] * 10\n",
    "    #Desempacotando a função tupla if marker == 'X':     \n",
    "    player1_marker, player2_marker = player_input()\n",
    "    turn = choose_first()\n",
    "    print(turn+' começa!')\n",
    "    \n",
    "    game_on = True\n",
    "    \n",
    "    while game_on:\n",
    "        #Vez do jogador 1\n",
    "        if turn == 'Player 1':\n",
    "            display_board(board)\n",
    "            position = player_choice(board)\n",
    "            place_marker(board, player1_marker, position)\n",
    "            \n",
    "    #Verifica se já ganhou\n",
    "        if win_check(board, player1_marker):\n",
    "            display_board(board)\n",
    "            print('Parabéns! Você venceu!')\n",
    "            game_on = False\n",
    "        else:\n",
    "            if full_board_check(board):\n",
    "                display_board(board)\n",
    "                print('Empate!')\n",
    "                break\n",
    "            else:\n",
    "                turn = 'Player 2'\n",
    "                \n",
    "\n",
    "#-----------------------------------------------------------------------------------------------        \n",
    "        #Vez do jogador 2\n",
    "    \n",
    "        if turn == 'Player 2':\n",
    "            display_board(board)\n",
    "            position = player_choice(board)\n",
    "            place_marker(board, player2_marker, position)\n",
    "            \n",
    "    #Verifica se já ganhou\n",
    "        if win_check(board, player2_marker):\n",
    "            display_board(board)\n",
    "            print('Parabéns! Você venceu!')\n",
    "            game_on = False\n",
    "        else:\n",
    "            if full_board_check(board):\n",
    "                display_board(board)\n",
    "                print('Empate!')\n",
    "                break\n",
    "            else:\n",
    "                turn = 'Player 1'\n",
    "                    \n",
    "                \n",
    "    if not replay():\n",
    "        break\n",
    "\n"
   ]
  },
  {
   "cell_type": "code",
   "execution_count": null,
   "metadata": {},
   "outputs": [],
   "source": []
  },
  {
   "cell_type": "code",
   "execution_count": null,
   "metadata": {},
   "outputs": [],
   "source": []
  },
  {
   "cell_type": "code",
   "execution_count": null,
   "metadata": {},
   "outputs": [],
   "source": []
  }
 ],
 "metadata": {
  "kernelspec": {
   "display_name": "Python 3",
   "language": "python",
   "name": "python3"
  },
  "language_info": {
   "codemirror_mode": {
    "name": "ipython",
    "version": 3
   },
   "file_extension": ".py",
   "mimetype": "text/x-python",
   "name": "python",
   "nbconvert_exporter": "python",
   "pygments_lexer": "ipython3",
   "version": "3.8.5"
  }
 },
 "nbformat": 4,
 "nbformat_minor": 4
}
